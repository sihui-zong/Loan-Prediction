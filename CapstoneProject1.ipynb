{
 "cells": [
  {
   "cell_type": "markdown",
   "metadata": {},
   "source": [
    "# Capstone Project 1 -- New York Issued Parking Tickets in Fiscal Year 2016\n",
    "\n",
    "1. "
   ]
  },
  {
   "cell_type": "code",
   "execution_count": 2,
   "metadata": {
    "collapsed": true
   },
   "outputs": [],
   "source": [
    "import pandas as pd\n",
    "import seaborn as sns\n",
    "import matplotlib.pyplot as plt\n",
    "%matplotlib inline"
   ]
  },
  {
   "cell_type": "code",
   "execution_count": 53,
   "metadata": {
    "collapsed": true
   },
   "outputs": [],
   "source": [
    "parse_date = ['IssueDate','ViolationTime']\n",
    "man = pd.read_csv(r'''C:\\Users\\MiaZo_000\\Documents\\SpringBoard\\1st Capstone Project\\cleantime+stcodes_man.csv''', parse_dates=parse_date, usecols=[1,2,3,4,5,6,7,8,9,10,11,12,13,14,15,16,17,18,19,20,21,22,23], dtype={'ViolationCode':'str', 'StreetCode1':'str','StreetCode2':'str', 'StreetCode2':'str',})"
   ]
  },
  {
   "cell_type": "code",
   "execution_count": 104,
   "metadata": {},
   "outputs": [
    {
     "data": {
      "text/html": [
       "<div>\n",
       "<style>\n",
       "    .dataframe thead tr:only-child th {\n",
       "        text-align: right;\n",
       "    }\n",
       "\n",
       "    .dataframe thead th {\n",
       "        text-align: left;\n",
       "    }\n",
       "\n",
       "    .dataframe tbody tr th {\n",
       "        vertical-align: top;\n",
       "    }\n",
       "</style>\n",
       "<table border=\"1\" class=\"dataframe\">\n",
       "  <thead>\n",
       "    <tr style=\"text-align: right;\">\n",
       "      <th></th>\n",
       "      <th>SummonsNumber</th>\n",
       "      <th>RegistrationState</th>\n",
       "      <th>PlateType</th>\n",
       "      <th>IssueDate</th>\n",
       "      <th>ViolationCode</th>\n",
       "      <th>VehicleBodyType</th>\n",
       "      <th>VehicleMake</th>\n",
       "      <th>IssuingAgency</th>\n",
       "      <th>StreetCode1</th>\n",
       "      <th>StreetCode2</th>\n",
       "      <th>...</th>\n",
       "      <th>IssuerCode</th>\n",
       "      <th>IssuerCommand</th>\n",
       "      <th>IssuerSquad</th>\n",
       "      <th>ViolationTime</th>\n",
       "      <th>ViolationCounty</th>\n",
       "      <th>VehicleColor</th>\n",
       "      <th>Month</th>\n",
       "      <th>DayOfWeek</th>\n",
       "      <th>Year</th>\n",
       "      <th>Weekday</th>\n",
       "    </tr>\n",
       "  </thead>\n",
       "  <tbody>\n",
       "    <tr>\n",
       "      <th>0</th>\n",
       "      <td>1307935187</td>\n",
       "      <td>VA</td>\n",
       "      <td>PAS</td>\n",
       "      <td>2015-07-09</td>\n",
       "      <td>67</td>\n",
       "      <td>SDN</td>\n",
       "      <td>LEXUS</td>\n",
       "      <td>K</td>\n",
       "      <td>30620</td>\n",
       "      <td>29450</td>\n",
       "      <td>...</td>\n",
       "      <td>160434</td>\n",
       "      <td>0001</td>\n",
       "      <td>0</td>\n",
       "      <td>01:14:00</td>\n",
       "      <td>NY</td>\n",
       "      <td>WHITE</td>\n",
       "      <td>7</td>\n",
       "      <td>4</td>\n",
       "      <td>2015</td>\n",
       "      <td>1</td>\n",
       "    </tr>\n",
       "    <tr>\n",
       "      <th>1</th>\n",
       "      <td>1314583440</td>\n",
       "      <td>NY</td>\n",
       "      <td>PAS</td>\n",
       "      <td>2015-07-03</td>\n",
       "      <td>46</td>\n",
       "      <td>SDN</td>\n",
       "      <td>CADIL</td>\n",
       "      <td>P</td>\n",
       "      <td>36270</td>\n",
       "      <td>11710</td>\n",
       "      <td>...</td>\n",
       "      <td>941709</td>\n",
       "      <td>0026</td>\n",
       "      <td>0</td>\n",
       "      <td>00:33:00</td>\n",
       "      <td>NY</td>\n",
       "      <td>WHT</td>\n",
       "      <td>7</td>\n",
       "      <td>5</td>\n",
       "      <td>2015</td>\n",
       "      <td>1</td>\n",
       "    </tr>\n",
       "    <tr>\n",
       "      <th>2</th>\n",
       "      <td>1314584479</td>\n",
       "      <td>NY</td>\n",
       "      <td>999</td>\n",
       "      <td>2015-07-05</td>\n",
       "      <td>46</td>\n",
       "      <td>SDN</td>\n",
       "      <td>DODGE</td>\n",
       "      <td>P</td>\n",
       "      <td>36270</td>\n",
       "      <td>11710</td>\n",
       "      <td>...</td>\n",
       "      <td>944339</td>\n",
       "      <td>0026</td>\n",
       "      <td>0</td>\n",
       "      <td>00:05:00</td>\n",
       "      <td>NY</td>\n",
       "      <td>BLACK</td>\n",
       "      <td>7</td>\n",
       "      <td>7</td>\n",
       "      <td>2015</td>\n",
       "      <td>0</td>\n",
       "    </tr>\n",
       "    <tr>\n",
       "      <th>3</th>\n",
       "      <td>1321377605</td>\n",
       "      <td>NY</td>\n",
       "      <td>PAS</td>\n",
       "      <td>2015-07-02</td>\n",
       "      <td>24</td>\n",
       "      <td>SUBN</td>\n",
       "      <td>FORD</td>\n",
       "      <td>P</td>\n",
       "      <td>19250</td>\n",
       "      <td>25390</td>\n",
       "      <td>...</td>\n",
       "      <td>955834</td>\n",
       "      <td>0805</td>\n",
       "      <td>0</td>\n",
       "      <td>02:00:00</td>\n",
       "      <td>NY</td>\n",
       "      <td>GREEN</td>\n",
       "      <td>7</td>\n",
       "      <td>4</td>\n",
       "      <td>2015</td>\n",
       "      <td>1</td>\n",
       "    </tr>\n",
       "    <tr>\n",
       "      <th>4</th>\n",
       "      <td>1321378348</td>\n",
       "      <td>NY</td>\n",
       "      <td>PAS</td>\n",
       "      <td>2015-07-05</td>\n",
       "      <td>24</td>\n",
       "      <td>SDN</td>\n",
       "      <td>BMW</td>\n",
       "      <td>P</td>\n",
       "      <td>19070</td>\n",
       "      <td>10010</td>\n",
       "      <td>...</td>\n",
       "      <td>955881</td>\n",
       "      <td>0805</td>\n",
       "      <td>0</td>\n",
       "      <td>20:20:00</td>\n",
       "      <td>NY</td>\n",
       "      <td>GRAY</td>\n",
       "      <td>7</td>\n",
       "      <td>7</td>\n",
       "      <td>2015</td>\n",
       "      <td>0</td>\n",
       "    </tr>\n",
       "  </tbody>\n",
       "</table>\n",
       "<p>5 rows × 23 columns</p>\n",
       "</div>"
      ],
      "text/plain": [
       "   SummonsNumber RegistrationState PlateType  IssueDate ViolationCode  \\\n",
       "0     1307935187                VA       PAS 2015-07-09            67   \n",
       "1     1314583440                NY       PAS 2015-07-03            46   \n",
       "2     1314584479                NY       999 2015-07-05            46   \n",
       "3     1321377605                NY       PAS 2015-07-02            24   \n",
       "4     1321378348                NY       PAS 2015-07-05            24   \n",
       "\n",
       "  VehicleBodyType VehicleMake IssuingAgency StreetCode1 StreetCode2   ...     \\\n",
       "0             SDN       LEXUS             K       30620       29450   ...      \n",
       "1             SDN       CADIL             P       36270       11710   ...      \n",
       "2             SDN       DODGE             P       36270       11710   ...      \n",
       "3            SUBN        FORD             P       19250       25390   ...      \n",
       "4             SDN         BMW             P       19070       10010   ...      \n",
       "\n",
       "   IssuerCode  IssuerCommand  IssuerSquad  ViolationTime ViolationCounty  \\\n",
       "0      160434           0001            0       01:14:00              NY   \n",
       "1      941709           0026            0       00:33:00              NY   \n",
       "2      944339           0026            0       00:05:00              NY   \n",
       "3      955834           0805            0       02:00:00              NY   \n",
       "4      955881           0805            0       20:20:00              NY   \n",
       "\n",
       "  VehicleColor Month DayOfWeek  Year  Weekday  \n",
       "0        WHITE     7         4  2015        1  \n",
       "1          WHT     7         5  2015        1  \n",
       "2        BLACK     7         7  2015        0  \n",
       "3        GREEN     7         4  2015        1  \n",
       "4         GRAY     7         7  2015        0  \n",
       "\n",
       "[5 rows x 23 columns]"
      ]
     },
     "execution_count": 104,
     "metadata": {},
     "output_type": "execute_result"
    }
   ],
   "source": [
    "man.head()"
   ]
  },
  {
   "cell_type": "code",
   "execution_count": 105,
   "metadata": {},
   "outputs": [
    {
     "name": "stdout",
     "output_type": "stream",
     "text": [
      "<class 'pandas.core.frame.DataFrame'>\n",
      "RangeIndex: 2879859 entries, 0 to 2879858\n",
      "Data columns (total 23 columns):\n",
      "SummonsNumber        int64\n",
      "RegistrationState    object\n",
      "PlateType            object\n",
      "IssueDate            datetime64[ns]\n",
      "ViolationCode        object\n",
      "VehicleBodyType      object\n",
      "VehicleMake          object\n",
      "IssuingAgency        object\n",
      "StreetCode1          object\n",
      "StreetCode2          object\n",
      "StreetCode3          int64\n",
      "ViolationPrecinct    int64\n",
      "IssuerPrecinct       int64\n",
      "IssuerCode           int64\n",
      "IssuerCommand        object\n",
      "IssuerSquad          object\n",
      "ViolationTime        object\n",
      "ViolationCounty      object\n",
      "VehicleColor         object\n",
      "Month                int64\n",
      "DayOfWeek            int64\n",
      "Year                 int64\n",
      "Weekday              int64\n",
      "dtypes: datetime64[ns](1), int64(9), object(13)\n",
      "memory usage: 505.3+ MB\n"
     ]
    }
   ],
   "source": [
    "man.info()"
   ]
  },
  {
   "cell_type": "code",
   "execution_count": 74,
   "metadata": {
    "collapsed": true
   },
   "outputs": [],
   "source": [
    "man2 = pd.read_csv(r'''C:\\Users\\MiaZo_000\\Documents\\SpringBoard\\1st Capstone Project\\cleantime+stcodes_man.csv''')"
   ]
  },
  {
   "cell_type": "code",
   "execution_count": 88,
   "metadata": {},
   "outputs": [],
   "source": [
    "man2.loc[:,'datetime'] = man2.IssueDate.str.slice(0,10) + ' ' + man2.ViolationTime"
   ]
  },
  {
   "cell_type": "code",
   "execution_count": 89,
   "metadata": {},
   "outputs": [
    {
     "data": {
      "text/html": [
       "<div>\n",
       "<style>\n",
       "    .dataframe thead tr:only-child th {\n",
       "        text-align: right;\n",
       "    }\n",
       "\n",
       "    .dataframe thead th {\n",
       "        text-align: left;\n",
       "    }\n",
       "\n",
       "    .dataframe tbody tr th {\n",
       "        vertical-align: top;\n",
       "    }\n",
       "</style>\n",
       "<table border=\"1\" class=\"dataframe\">\n",
       "  <thead>\n",
       "    <tr style=\"text-align: right;\">\n",
       "      <th></th>\n",
       "      <th>Unnamed: 0</th>\n",
       "      <th>SummonsNumber</th>\n",
       "      <th>RegistrationState</th>\n",
       "      <th>PlateType</th>\n",
       "      <th>IssueDate</th>\n",
       "      <th>ViolationCode</th>\n",
       "      <th>VehicleBodyType</th>\n",
       "      <th>VehicleMake</th>\n",
       "      <th>IssuingAgency</th>\n",
       "      <th>StreetCode1</th>\n",
       "      <th>...</th>\n",
       "      <th>IssuerCommand</th>\n",
       "      <th>IssuerSquad</th>\n",
       "      <th>ViolationTime</th>\n",
       "      <th>ViolationCounty</th>\n",
       "      <th>VehicleColor</th>\n",
       "      <th>Month</th>\n",
       "      <th>DayOfWeek</th>\n",
       "      <th>Year</th>\n",
       "      <th>Weekday</th>\n",
       "      <th>datetime</th>\n",
       "    </tr>\n",
       "  </thead>\n",
       "  <tbody>\n",
       "    <tr>\n",
       "      <th>0</th>\n",
       "      <td>117</td>\n",
       "      <td>1307935187</td>\n",
       "      <td>VA</td>\n",
       "      <td>PAS</td>\n",
       "      <td>2015-07-09</td>\n",
       "      <td>67</td>\n",
       "      <td>SDN</td>\n",
       "      <td>LEXUS</td>\n",
       "      <td>K</td>\n",
       "      <td>30620</td>\n",
       "      <td>...</td>\n",
       "      <td>0001</td>\n",
       "      <td>0</td>\n",
       "      <td>01:14</td>\n",
       "      <td>NY</td>\n",
       "      <td>WHITE</td>\n",
       "      <td>7</td>\n",
       "      <td>4</td>\n",
       "      <td>2015</td>\n",
       "      <td>1</td>\n",
       "      <td>2015-07-09 01:14</td>\n",
       "    </tr>\n",
       "    <tr>\n",
       "      <th>1</th>\n",
       "      <td>157</td>\n",
       "      <td>1314583440</td>\n",
       "      <td>NY</td>\n",
       "      <td>PAS</td>\n",
       "      <td>2015-07-03</td>\n",
       "      <td>46</td>\n",
       "      <td>SDN</td>\n",
       "      <td>CADIL</td>\n",
       "      <td>P</td>\n",
       "      <td>36270</td>\n",
       "      <td>...</td>\n",
       "      <td>0026</td>\n",
       "      <td>0</td>\n",
       "      <td>00:33</td>\n",
       "      <td>NY</td>\n",
       "      <td>WHT</td>\n",
       "      <td>7</td>\n",
       "      <td>5</td>\n",
       "      <td>2015</td>\n",
       "      <td>1</td>\n",
       "      <td>2015-07-03 00:33</td>\n",
       "    </tr>\n",
       "    <tr>\n",
       "      <th>2</th>\n",
       "      <td>161</td>\n",
       "      <td>1314584479</td>\n",
       "      <td>NY</td>\n",
       "      <td>999</td>\n",
       "      <td>2015-07-05</td>\n",
       "      <td>46</td>\n",
       "      <td>SDN</td>\n",
       "      <td>DODGE</td>\n",
       "      <td>P</td>\n",
       "      <td>36270</td>\n",
       "      <td>...</td>\n",
       "      <td>0026</td>\n",
       "      <td>0</td>\n",
       "      <td>00:05</td>\n",
       "      <td>NY</td>\n",
       "      <td>BLACK</td>\n",
       "      <td>7</td>\n",
       "      <td>7</td>\n",
       "      <td>2015</td>\n",
       "      <td>0</td>\n",
       "      <td>2015-07-05 00:05</td>\n",
       "    </tr>\n",
       "    <tr>\n",
       "      <th>3</th>\n",
       "      <td>204</td>\n",
       "      <td>1321377605</td>\n",
       "      <td>NY</td>\n",
       "      <td>PAS</td>\n",
       "      <td>2015-07-02</td>\n",
       "      <td>24</td>\n",
       "      <td>SUBN</td>\n",
       "      <td>FORD</td>\n",
       "      <td>P</td>\n",
       "      <td>19250</td>\n",
       "      <td>...</td>\n",
       "      <td>0805</td>\n",
       "      <td>0</td>\n",
       "      <td>02:00</td>\n",
       "      <td>NY</td>\n",
       "      <td>GREEN</td>\n",
       "      <td>7</td>\n",
       "      <td>4</td>\n",
       "      <td>2015</td>\n",
       "      <td>1</td>\n",
       "      <td>2015-07-02 02:00</td>\n",
       "    </tr>\n",
       "    <tr>\n",
       "      <th>4</th>\n",
       "      <td>308</td>\n",
       "      <td>1321378348</td>\n",
       "      <td>NY</td>\n",
       "      <td>PAS</td>\n",
       "      <td>2015-07-05</td>\n",
       "      <td>24</td>\n",
       "      <td>SDN</td>\n",
       "      <td>BMW</td>\n",
       "      <td>P</td>\n",
       "      <td>19070</td>\n",
       "      <td>...</td>\n",
       "      <td>0805</td>\n",
       "      <td>0</td>\n",
       "      <td>20:20</td>\n",
       "      <td>NY</td>\n",
       "      <td>GRAY</td>\n",
       "      <td>7</td>\n",
       "      <td>7</td>\n",
       "      <td>2015</td>\n",
       "      <td>0</td>\n",
       "      <td>2015-07-05 20:20</td>\n",
       "    </tr>\n",
       "  </tbody>\n",
       "</table>\n",
       "<p>5 rows × 25 columns</p>\n",
       "</div>"
      ],
      "text/plain": [
       "   Unnamed: 0  SummonsNumber RegistrationState PlateType   IssueDate  \\\n",
       "0         117     1307935187                VA       PAS  2015-07-09   \n",
       "1         157     1314583440                NY       PAS  2015-07-03   \n",
       "2         161     1314584479                NY       999  2015-07-05   \n",
       "3         204     1321377605                NY       PAS  2015-07-02   \n",
       "4         308     1321378348                NY       PAS  2015-07-05   \n",
       "\n",
       "   ViolationCode VehicleBodyType VehicleMake IssuingAgency  StreetCode1  \\\n",
       "0             67             SDN       LEXUS             K        30620   \n",
       "1             46             SDN       CADIL             P        36270   \n",
       "2             46             SDN       DODGE             P        36270   \n",
       "3             24            SUBN        FORD             P        19250   \n",
       "4             24             SDN         BMW             P        19070   \n",
       "\n",
       "         ...         IssuerCommand  IssuerSquad  ViolationTime  \\\n",
       "0        ...                  0001            0          01:14   \n",
       "1        ...                  0026            0          00:33   \n",
       "2        ...                  0026            0          00:05   \n",
       "3        ...                  0805            0          02:00   \n",
       "4        ...                  0805            0          20:20   \n",
       "\n",
       "   ViolationCounty  VehicleColor Month DayOfWeek  Year Weekday  \\\n",
       "0               NY         WHITE     7         4  2015       1   \n",
       "1               NY           WHT     7         5  2015       1   \n",
       "2               NY         BLACK     7         7  2015       0   \n",
       "3               NY         GREEN     7         4  2015       1   \n",
       "4               NY          GRAY     7         7  2015       0   \n",
       "\n",
       "           datetime  \n",
       "0  2015-07-09 01:14  \n",
       "1  2015-07-03 00:33  \n",
       "2  2015-07-05 00:05  \n",
       "3  2015-07-02 02:00  \n",
       "4  2015-07-05 20:20  \n",
       "\n",
       "[5 rows x 25 columns]"
      ]
     },
     "execution_count": 89,
     "metadata": {},
     "output_type": "execute_result"
    }
   ],
   "source": [
    "man2.head()"
   ]
  },
  {
   "cell_type": "code",
   "execution_count": 96,
   "metadata": {},
   "outputs": [],
   "source": [
    "man2.loc[:,'datetime'] = pd.to_datetime(man2.datetime)"
   ]
  },
  {
   "cell_type": "code",
   "execution_count": 97,
   "metadata": {},
   "outputs": [
    {
     "data": {
      "text/html": [
       "<div>\n",
       "<style>\n",
       "    .dataframe thead tr:only-child th {\n",
       "        text-align: right;\n",
       "    }\n",
       "\n",
       "    .dataframe thead th {\n",
       "        text-align: left;\n",
       "    }\n",
       "\n",
       "    .dataframe tbody tr th {\n",
       "        vertical-align: top;\n",
       "    }\n",
       "</style>\n",
       "<table border=\"1\" class=\"dataframe\">\n",
       "  <thead>\n",
       "    <tr style=\"text-align: right;\">\n",
       "      <th></th>\n",
       "      <th>Unnamed: 0</th>\n",
       "      <th>SummonsNumber</th>\n",
       "      <th>RegistrationState</th>\n",
       "      <th>PlateType</th>\n",
       "      <th>IssueDate</th>\n",
       "      <th>ViolationCode</th>\n",
       "      <th>VehicleBodyType</th>\n",
       "      <th>VehicleMake</th>\n",
       "      <th>IssuingAgency</th>\n",
       "      <th>StreetCode1</th>\n",
       "      <th>...</th>\n",
       "      <th>IssuerSquad</th>\n",
       "      <th>ViolationTime</th>\n",
       "      <th>ViolationCounty</th>\n",
       "      <th>VehicleColor</th>\n",
       "      <th>Month</th>\n",
       "      <th>DayOfWeek</th>\n",
       "      <th>Year</th>\n",
       "      <th>Weekday</th>\n",
       "      <th>datetime</th>\n",
       "      <th>Datetime</th>\n",
       "    </tr>\n",
       "  </thead>\n",
       "  <tbody>\n",
       "    <tr>\n",
       "      <th>0</th>\n",
       "      <td>117</td>\n",
       "      <td>1307935187</td>\n",
       "      <td>VA</td>\n",
       "      <td>PAS</td>\n",
       "      <td>2015-07-09</td>\n",
       "      <td>67</td>\n",
       "      <td>SDN</td>\n",
       "      <td>LEXUS</td>\n",
       "      <td>K</td>\n",
       "      <td>30620</td>\n",
       "      <td>...</td>\n",
       "      <td>0</td>\n",
       "      <td>01:14</td>\n",
       "      <td>NY</td>\n",
       "      <td>WHITE</td>\n",
       "      <td>7</td>\n",
       "      <td>4</td>\n",
       "      <td>2015</td>\n",
       "      <td>1</td>\n",
       "      <td>2015-07-09 01:14:00</td>\n",
       "      <td>2015-07-09 01:14:00</td>\n",
       "    </tr>\n",
       "    <tr>\n",
       "      <th>1</th>\n",
       "      <td>157</td>\n",
       "      <td>1314583440</td>\n",
       "      <td>NY</td>\n",
       "      <td>PAS</td>\n",
       "      <td>2015-07-03</td>\n",
       "      <td>46</td>\n",
       "      <td>SDN</td>\n",
       "      <td>CADIL</td>\n",
       "      <td>P</td>\n",
       "      <td>36270</td>\n",
       "      <td>...</td>\n",
       "      <td>0</td>\n",
       "      <td>00:33</td>\n",
       "      <td>NY</td>\n",
       "      <td>WHT</td>\n",
       "      <td>7</td>\n",
       "      <td>5</td>\n",
       "      <td>2015</td>\n",
       "      <td>1</td>\n",
       "      <td>2015-07-03 00:33:00</td>\n",
       "      <td>2015-07-03 00:33:00</td>\n",
       "    </tr>\n",
       "    <tr>\n",
       "      <th>2</th>\n",
       "      <td>161</td>\n",
       "      <td>1314584479</td>\n",
       "      <td>NY</td>\n",
       "      <td>999</td>\n",
       "      <td>2015-07-05</td>\n",
       "      <td>46</td>\n",
       "      <td>SDN</td>\n",
       "      <td>DODGE</td>\n",
       "      <td>P</td>\n",
       "      <td>36270</td>\n",
       "      <td>...</td>\n",
       "      <td>0</td>\n",
       "      <td>00:05</td>\n",
       "      <td>NY</td>\n",
       "      <td>BLACK</td>\n",
       "      <td>7</td>\n",
       "      <td>7</td>\n",
       "      <td>2015</td>\n",
       "      <td>0</td>\n",
       "      <td>2015-07-05 00:05:00</td>\n",
       "      <td>2015-07-05 00:05:00</td>\n",
       "    </tr>\n",
       "    <tr>\n",
       "      <th>3</th>\n",
       "      <td>204</td>\n",
       "      <td>1321377605</td>\n",
       "      <td>NY</td>\n",
       "      <td>PAS</td>\n",
       "      <td>2015-07-02</td>\n",
       "      <td>24</td>\n",
       "      <td>SUBN</td>\n",
       "      <td>FORD</td>\n",
       "      <td>P</td>\n",
       "      <td>19250</td>\n",
       "      <td>...</td>\n",
       "      <td>0</td>\n",
       "      <td>02:00</td>\n",
       "      <td>NY</td>\n",
       "      <td>GREEN</td>\n",
       "      <td>7</td>\n",
       "      <td>4</td>\n",
       "      <td>2015</td>\n",
       "      <td>1</td>\n",
       "      <td>2015-07-02 02:00:00</td>\n",
       "      <td>2015-07-02 02:00:00</td>\n",
       "    </tr>\n",
       "    <tr>\n",
       "      <th>4</th>\n",
       "      <td>308</td>\n",
       "      <td>1321378348</td>\n",
       "      <td>NY</td>\n",
       "      <td>PAS</td>\n",
       "      <td>2015-07-05</td>\n",
       "      <td>24</td>\n",
       "      <td>SDN</td>\n",
       "      <td>BMW</td>\n",
       "      <td>P</td>\n",
       "      <td>19070</td>\n",
       "      <td>...</td>\n",
       "      <td>0</td>\n",
       "      <td>20:20</td>\n",
       "      <td>NY</td>\n",
       "      <td>GRAY</td>\n",
       "      <td>7</td>\n",
       "      <td>7</td>\n",
       "      <td>2015</td>\n",
       "      <td>0</td>\n",
       "      <td>2015-07-05 20:20:00</td>\n",
       "      <td>2015-07-05 20:20:00</td>\n",
       "    </tr>\n",
       "  </tbody>\n",
       "</table>\n",
       "<p>5 rows × 26 columns</p>\n",
       "</div>"
      ],
      "text/plain": [
       "   Unnamed: 0  SummonsNumber RegistrationState PlateType   IssueDate  \\\n",
       "0         117     1307935187                VA       PAS  2015-07-09   \n",
       "1         157     1314583440                NY       PAS  2015-07-03   \n",
       "2         161     1314584479                NY       999  2015-07-05   \n",
       "3         204     1321377605                NY       PAS  2015-07-02   \n",
       "4         308     1321378348                NY       PAS  2015-07-05   \n",
       "\n",
       "   ViolationCode VehicleBodyType VehicleMake IssuingAgency  StreetCode1  \\\n",
       "0             67             SDN       LEXUS             K        30620   \n",
       "1             46             SDN       CADIL             P        36270   \n",
       "2             46             SDN       DODGE             P        36270   \n",
       "3             24            SUBN        FORD             P        19250   \n",
       "4             24             SDN         BMW             P        19070   \n",
       "\n",
       "          ...          IssuerSquad  ViolationTime  ViolationCounty  \\\n",
       "0         ...                    0          01:14               NY   \n",
       "1         ...                    0          00:33               NY   \n",
       "2         ...                    0          00:05               NY   \n",
       "3         ...                    0          02:00               NY   \n",
       "4         ...                    0          20:20               NY   \n",
       "\n",
       "   VehicleColor  Month DayOfWeek  Year Weekday            datetime  \\\n",
       "0         WHITE      7         4  2015       1 2015-07-09 01:14:00   \n",
       "1           WHT      7         5  2015       1 2015-07-03 00:33:00   \n",
       "2         BLACK      7         7  2015       0 2015-07-05 00:05:00   \n",
       "3         GREEN      7         4  2015       1 2015-07-02 02:00:00   \n",
       "4          GRAY      7         7  2015       0 2015-07-05 20:20:00   \n",
       "\n",
       "             Datetime  \n",
       "0 2015-07-09 01:14:00  \n",
       "1 2015-07-03 00:33:00  \n",
       "2 2015-07-05 00:05:00  \n",
       "3 2015-07-02 02:00:00  \n",
       "4 2015-07-05 20:20:00  \n",
       "\n",
       "[5 rows x 26 columns]"
      ]
     },
     "execution_count": 97,
     "metadata": {},
     "output_type": "execute_result"
    }
   ],
   "source": [
    "man2.head()"
   ]
  },
  {
   "cell_type": "code",
   "execution_count": 107,
   "metadata": {},
   "outputs": [],
   "source": [
    "man3 = man2.iloc[:, 1:-1]"
   ]
  },
  {
   "cell_type": "code",
   "execution_count": 108,
   "metadata": {},
   "outputs": [
    {
     "name": "stdout",
     "output_type": "stream",
     "text": [
      "<class 'pandas.core.frame.DataFrame'>\n",
      "RangeIndex: 2879859 entries, 0 to 2879858\n",
      "Data columns (total 24 columns):\n",
      "SummonsNumber        int64\n",
      "RegistrationState    object\n",
      "PlateType            object\n",
      "IssueDate            object\n",
      "ViolationCode        int64\n",
      "VehicleBodyType      object\n",
      "VehicleMake          object\n",
      "IssuingAgency        object\n",
      "StreetCode1          int64\n",
      "StreetCode2          int64\n",
      "StreetCode3          int64\n",
      "ViolationPrecinct    int64\n",
      "IssuerPrecinct       int64\n",
      "IssuerCode           int64\n",
      "IssuerCommand        object\n",
      "IssuerSquad          object\n",
      "ViolationTime        object\n",
      "ViolationCounty      object\n",
      "VehicleColor         object\n",
      "Month                int64\n",
      "DayOfWeek            int64\n",
      "Year                 int64\n",
      "Weekday              int64\n",
      "datetime             datetime64[ns]\n",
      "dtypes: datetime64[ns](1), int64(12), object(11)\n",
      "memory usage: 527.3+ MB\n"
     ]
    }
   ],
   "source": [
    "man3.info()"
   ]
  },
  {
   "cell_type": "code",
   "execution_count": 126,
   "metadata": {
    "collapsed": true
   },
   "outputs": [],
   "source": [
    "man3.iloc[:, 1:-1].to_csv(r'''C:\\Users\\MiaZo_000\\Documents\\SpringBoard\\1st Capstone Project\\cleantime+stcodes_man.csv''')"
   ]
  },
  {
   "cell_type": "markdown",
   "metadata": {},
   "source": [
    "### About Registration State"
   ]
  },
  {
   "cell_type": "code",
   "execution_count": 98,
   "metadata": {},
   "outputs": [
    {
     "data": {
      "text/plain": [
       "66"
      ]
     },
     "execution_count": 98,
     "metadata": {},
     "output_type": "execute_result"
    }
   ],
   "source": [
    "man.RegistrationState.nunique()"
   ]
  },
  {
   "cell_type": "markdown",
   "metadata": {},
   "source": [
    "It is noticeable that there are 66 unique values in the *RegistrationState* column, which cannot be correct as there are total only 50 states in United States. Thus, some of the values here need to be cleaned. Also, according to this [website](https://newyorkparkingticket.com/do-you-make-these-common-required-element-mistakes/), registration state is a required element for a valid parking ticket, therefore, I will delete the observations with invalid values in the *RegistrationState* column."
   ]
  },
  {
   "cell_type": "code",
   "execution_count": 116,
   "metadata": {
    "collapsed": true
   },
   "outputs": [],
   "source": [
    "from urllib.request import urlopen\n",
    "from bs4 import BeautifulSoup as bs"
   ]
  },
  {
   "cell_type": "code",
   "execution_count": 117,
   "metadata": {
    "collapsed": true
   },
   "outputs": [],
   "source": [
    "url = 'http://www.softschools.com/social_studies/state_abbreviations/'\n",
    "soup = bs(urlopen(url), 'lxml')"
   ]
  },
  {
   "cell_type": "code",
   "execution_count": 118,
   "metadata": {
    "collapsed": true
   },
   "outputs": [],
   "source": [
    "fiftystates = {}\n",
    "ll = []\n",
    "l = soup.select('span tr td')\n",
    "# territories are not considered as states\n",
    "for s in l[:-6]:\n",
    "    ll.append(s.get_text())\n",
    "\n",
    "it = iter(ll)\n",
    "j = 0\n",
    "for i in it:\n",
    "    fiftystates[i] = next(it)\n",
    "    j +=1"
   ]
  },
  {
   "cell_type": "code",
   "execution_count": 119,
   "metadata": {
    "collapsed": true
   },
   "outputs": [],
   "source": [
    "fiftystatesser = pd.Series(fiftystates)"
   ]
  },
  {
   "cell_type": "code",
   "execution_count": 120,
   "metadata": {},
   "outputs": [
    {
     "data": {
      "text/html": [
       "<div>\n",
       "<style>\n",
       "    .dataframe thead tr:only-child th {\n",
       "        text-align: right;\n",
       "    }\n",
       "\n",
       "    .dataframe thead th {\n",
       "        text-align: left;\n",
       "    }\n",
       "\n",
       "    .dataframe tbody tr th {\n",
       "        vertical-align: top;\n",
       "    }\n",
       "</style>\n",
       "<table border=\"1\" class=\"dataframe\">\n",
       "  <thead>\n",
       "    <tr style=\"text-align: right;\">\n",
       "      <th></th>\n",
       "      <th>abbr</th>\n",
       "    </tr>\n",
       "  </thead>\n",
       "  <tbody>\n",
       "    <tr>\n",
       "      <th>ALABAMA</th>\n",
       "      <td>AL</td>\n",
       "    </tr>\n",
       "    <tr>\n",
       "      <th>ALASKA</th>\n",
       "      <td>AK</td>\n",
       "    </tr>\n",
       "    <tr>\n",
       "      <th>ARIZONA</th>\n",
       "      <td>AZ</td>\n",
       "    </tr>\n",
       "    <tr>\n",
       "      <th>ARKANSAS</th>\n",
       "      <td>AR</td>\n",
       "    </tr>\n",
       "    <tr>\n",
       "      <th>CALIFORNIA</th>\n",
       "      <td>CA</td>\n",
       "    </tr>\n",
       "  </tbody>\n",
       "</table>\n",
       "</div>"
      ],
      "text/plain": [
       "            abbr\n",
       "ALABAMA       AL\n",
       "ALASKA        AK\n",
       "ARIZONA       AZ\n",
       "ARKANSAS      AR\n",
       "CALIFORNIA    CA"
      ]
     },
     "execution_count": 120,
     "metadata": {},
     "output_type": "execute_result"
    }
   ],
   "source": [
    "sdf = pd.DataFrame(fiftystatesser)\n",
    "sdf.columns = ['abbr']\n",
    "sdf.head()"
   ]
  },
  {
   "cell_type": "code",
   "execution_count": 121,
   "metadata": {
    "collapsed": true
   },
   "outputs": [],
   "source": [
    "# try to find what the extra 16 states in the NYC parking ticket dataset are\n",
    "invalidstates = list(set(man.RegistrationState.unique()) - set(sdf.abbr.values))"
   ]
  },
  {
   "cell_type": "code",
   "execution_count": 122,
   "metadata": {
    "collapsed": true
   },
   "outputs": [],
   "source": [
    "clean_man = man3.loc[~man3.RegistrationState.isin(invalidstates)]"
   ]
  },
  {
   "cell_type": "code",
   "execution_count": 125,
   "metadata": {
    "collapsed": true
   },
   "outputs": [],
   "source": [
    "clean_man.to_csv(r'''C:\\Users\\MiaZo_000\\Documents\\SpringBoard\\1st Capstone Project\\cleantime+stcodes+regisstate_man.csv''')"
   ]
  },
  {
   "cell_type": "markdown",
   "metadata": {},
   "source": [
    "## Now, I can find what the top 10 registration states are in which the most parking tickets were issued in fiscal 2016 in Manhattan."
   ]
  },
  {
   "cell_type": "code",
   "execution_count": 103,
   "metadata": {},
   "outputs": [
    {
     "data": {
      "text/plain": [
       "RegistrationState\n",
       "NY    2044336\n",
       "NJ     446413\n",
       "PA      58919\n",
       "IN      51560\n",
       "CT      48550\n",
       "MA      36197\n",
       "FL      24509\n",
       "VA      15976\n",
       "MD      14146\n",
       "NC      11560\n",
       "Name: SummonsNumber, dtype: int64"
      ]
     },
     "execution_count": 103,
     "metadata": {},
     "output_type": "execute_result"
    }
   ],
   "source": [
    "top10states = clean_man.groupby('RegistrationState').SummonsNumber.count().sort_values(ascending=False).head(10)\n",
    "top10states"
   ]
  },
  {
   "cell_type": "code",
   "execution_count": 111,
   "metadata": {},
   "outputs": [
    {
     "data": {
      "text/plain": [
       "(array([   36635.,    18739.,    38318.,    27252.,    10663.,     8767.,\n",
       "          339647.,  1568792.,    46647.,    12252.]),\n",
       " array([ 0. ,  0.9,  1.8,  2.7,  3.6,  4.5,  5.4,  6.3,  7.2,  8.1,  9. ]),\n",
       " <a list of 10 Patch objects>)"
      ]
     },
     "execution_count": 111,
     "metadata": {},
     "output_type": "execute_result"
    },
    {
     "data": {
      "image/png": "[encoded data removed]",
      "text/plain": [
       "<matplotlib.figure.Figure at 0x2b6afbb01d0>"
      ]
     },
     "metadata": {},
     "output_type": "display_data"
    }
   ],
   "source": [
    "plt.subplot(2,2,1)\n",
    "plt.hist(clean_man.loc[clean_man.RegistrationState.isin(list(top10states.index))].RegistrationState)\n",
    "plt.subplot(2,2,2)\n",
    "plt.hist(clean_man.loc[clean_man.RegistrationState.isin(list(top10states.index))].RegistrationState, log=True)"
   ]
  },
  {
   "cell_type": "code",
   "execution_count": 112,
   "metadata": {},
   "outputs": [
    {
     "data": {
      "text/plain": [
       "0.71535201216578848"
      ]
     },
     "execution_count": 112,
     "metadata": {},
     "output_type": "execute_result"
    }
   ],
   "source": [
    "top10states.values[0] / len(clean_man)"
   ]
  },
  {
   "cell_type": "markdown",
   "metadata": {},
   "source": [
    "Unsurprisingly, the most cars, about 72% of total cars,  which got parking tickets in 2016 were registrated in New York state. The second most registration state is New Jersey. Considering the fact the many people who work in Manhattan whereas live in New Jersey and they are likely to drive to city for work, it makes perfect sense that New Jersey are the second most registration state. The third is Pennsylvania, which is also geographically next to New York. People from there are likely to drive to Manhattan as well. Surprisingly, Indiana outnumbers those other neighbours of New York state, such as Connecticut (No.5) and Massachusetts (No.6). **The 4th most cars which got parking tickets in Manhattan were registered in Indiana.**"
   ]
  },
  {
   "cell_type": "code",
   "execution_count": null,
   "metadata": {
    "collapsed": true
   },
   "outputs": [],
   "source": []
  },
  {
   "cell_type": "markdown",
   "metadata": {},
   "source": [
    "# About  Plate Type\n",
    "\n",
    "Again, according to this [website](https://newyorkparkingticket.com/do-you-make-these-common-required-element-mistakes/), the plate type is not required, thus, I will not clean the whole data set because of some bad values in the *Plate Type* column."
   ]
  },
  {
   "cell_type": "code",
   "execution_count": 113,
   "metadata": {
    "collapsed": true
   },
   "outputs": [],
   "source": [
    "# try to find the top 5 plate types \n",
    "top5plate = pd.DataFrame(clean_man.groupby('PlateType').SummonsNumber.count().sort_values(ascending=False).head(5))"
   ]
  },
  {
   "cell_type": "code",
   "execution_count": 114,
   "metadata": {
    "collapsed": true
   },
   "outputs": [],
   "source": [
    "pt = ['Passenger', 'Commercial Vehicle', 'Taxi', 'Intl. Registration Plan', 'Rental']\n",
    "top5plate.loc[:,'Pt'] = pt"
   ]
  },
  {
   "cell_type": "code",
   "execution_count": 115,
   "metadata": {},
   "outputs": [
    {
     "data": {
      "text/html": [
       "<div>\n",
       "<style>\n",
       "    .dataframe thead tr:only-child th {\n",
       "        text-align: right;\n",
       "    }\n",
       "\n",
       "    .dataframe thead th {\n",
       "        text-align: left;\n",
       "    }\n",
       "\n",
       "    .dataframe tbody tr th {\n",
       "        vertical-align: top;\n",
       "    }\n",
       "</style>\n",
       "<table border=\"1\" class=\"dataframe\">\n",
       "  <thead>\n",
       "    <tr style=\"text-align: right;\">\n",
       "      <th></th>\n",
       "      <th>PlateType</th>\n",
       "      <th>SummonsNumber</th>\n",
       "      <th>Pt</th>\n",
       "    </tr>\n",
       "  </thead>\n",
       "  <tbody>\n",
       "    <tr>\n",
       "      <th>0</th>\n",
       "      <td>PAS</td>\n",
       "      <td>1173089</td>\n",
       "      <td>Passenger</td>\n",
       "    </tr>\n",
       "    <tr>\n",
       "      <th>1</th>\n",
       "      <td>COM</td>\n",
       "      <td>863695</td>\n",
       "      <td>Commercial Vehicle</td>\n",
       "    </tr>\n",
       "    <tr>\n",
       "      <th>2</th>\n",
       "      <td>OMT</td>\n",
       "      <td>50302</td>\n",
       "      <td>Taxi</td>\n",
       "    </tr>\n",
       "    <tr>\n",
       "      <th>3</th>\n",
       "      <td>IRP</td>\n",
       "      <td>25820</td>\n",
       "      <td>Intl. Registration Plan</td>\n",
       "    </tr>\n",
       "    <tr>\n",
       "      <th>4</th>\n",
       "      <td>OMS</td>\n",
       "      <td>14513</td>\n",
       "      <td>Rental</td>\n",
       "    </tr>\n",
       "  </tbody>\n",
       "</table>\n",
       "</div>"
      ],
      "text/plain": [
       "  PlateType  SummonsNumber                       Pt\n",
       "0       PAS        1173089                Passenger\n",
       "1       COM         863695       Commercial Vehicle\n",
       "2       OMT          50302                     Taxi\n",
       "3       IRP          25820  Intl. Registration Plan\n",
       "4       OMS          14513                   Rental"
      ]
     },
     "execution_count": 115,
     "metadata": {},
     "output_type": "execute_result"
    }
   ],
   "source": [
    "top5plate.reset_index(inplace=True)\n",
    "top5plate.head()"
   ]
  },
  {
   "cell_type": "code",
   "execution_count": 116,
   "metadata": {},
   "outputs": [
    {
     "data": {
      "text/plain": [
       "(array([  863695.,        0.,    25820.,        0.,        0.,    14513.,\n",
       "               0.,    50302.,        0.,  1173089.]),\n",
       " array([ 0. ,  0.4,  0.8,  1.2,  1.6,  2. ,  2.4,  2.8,  3.2,  3.6,  4. ]),\n",
       " <a list of 10 Patch objects>)"
      ]
     },
     "execution_count": 116,
     "metadata": {},
     "output_type": "execute_result"
    },
    {
     "data": {
      "image/png": "[encoded data removed]",
      "text/plain": [
       "<matplotlib.figure.Figure at 0x2b6afd6d198>"
      ]
     },
     "metadata": {},
     "output_type": "display_data"
    }
   ],
   "source": [
    "plt.hist(clean_man.loc[clean_man.PlateType.isin(top5plate.PlateType.values)].PlateType)"
   ]
  },
  {
   "cell_type": "code",
   "execution_count": 117,
   "metadata": {},
   "outputs": [
    {
     "data": {
      "text/plain": [
       "0.53491576741821267"
      ]
     },
     "execution_count": 117,
     "metadata": {},
     "output_type": "execute_result"
    }
   ],
   "source": [
    "top5plate.SummonsNumber[0]/len(clean_man)"
   ]
  },
  {
   "cell_type": "markdown",
   "metadata": {},
   "source": [
    "The results are not unanticipated at all. The most plate type is passenger, which takes up about 53% of the whole data set. The second is COM (commerical vehicle) and third is OMT (taxi). Intl.Registration Plan is a bit unexpectedly the forth one. This plan is an agreement between contiguous United States and Canadian provinces and the benefit of it is that a carrier may be registered in only his/her home state, yet legally engage in interstate commerce, according to (Wikipedia)['https://en.wikipedia.org/wiki/International_Registration_Plan']. For example, U Haul and Greyhound Lines are under this Intl.Registration Plan and it kind of makes sense that both U Haul and Grehound Lines need to stop somewhere for a while to either load stuff or passengers."
   ]
  },
  {
   "cell_type": "code",
   "execution_count": null,
   "metadata": {
    "collapsed": true
   },
   "outputs": [],
   "source": []
  },
  {
   "cell_type": "markdown",
   "metadata": {},
   "source": [
    "# About time, day, and month\n",
    "\n"
   ]
  },
  {
   "cell_type": "code",
   "execution_count": 50,
   "metadata": {},
   "outputs": [
    {
     "data": {
      "text/plain": [
       "(array([ 216482.,  237487.,  283288.,  251792.,  245339.,  161040.,\n",
       "         257867.,  268824.,  259978.,  281758.,  244455.,  154021.]),\n",
       " array([  1.        ,   1.91666667,   2.83333333,   3.75      ,\n",
       "          4.66666667,   5.58333333,   6.5       ,   7.41666667,\n",
       "          8.33333333,   9.25      ,  10.16666667,  11.08333333,  12.        ]),\n",
       " <a list of 1 Patch objects>)"
      ]
     },
     "execution_count": 50,
     "metadata": {},
     "output_type": "execute_result"
    },
    {
     "data": {
      "image/png": "[encoded data removed]",
      "text/plain": [
       "<matplotlib.figure.Figure at 0x1a500e349b0>"
      ]
     },
     "metadata": {},
     "output_type": "display_data"
    }
   ],
   "source": [
    "plt.hist(clean_man.Month, bins=12, histtype='step', align='mid')"
   ]
  },
  {
   "cell_type": "markdown",
   "metadata": {},
   "source": [
    "From the above histogram, it is not hard to tell that the top three months that most of the parking ticket issued in Manhattan are  March, October, and August. And the least three months are Decemeber, June, and January. POSSIBLE EXPLANATIONS....\n"
   ]
  },
  {
   "cell_type": "code",
   "execution_count": 189,
   "metadata": {},
   "outputs": [
    {
     "data": {
      "text/plain": [
       "Month\n",
       "3     283288\n",
       "10    281758\n",
       "8     268824\n",
       "9     259978\n",
       "7     257867\n",
       "4     251793\n",
       "5     245339\n",
       "11    244455\n",
       "2     237487\n",
       "1     216482\n",
       "6     161040\n",
       "12    154021\n",
       "Name: SummonsNumber, dtype: int64"
      ]
     },
     "execution_count": 189,
     "metadata": {},
     "output_type": "execute_result"
    }
   ],
   "source": [
    "clean_man.groupby('Month').SummonsNumber.count().sort_values(ascending=False)"
   ]
  },
  {
   "cell_type": "markdown",
   "metadata": {},
   "source": [
    "## About the top day of a week"
   ]
  },
  {
   "cell_type": "code",
   "execution_count": 191,
   "metadata": {},
   "outputs": [
    {
     "data": {
      "text/plain": [
       "DayOfWeek\n",
       "4    520268\n",
       "2    519033\n",
       "3    494617\n",
       "5    476256\n",
       "1    457120\n",
       "6    293629\n",
       "7    101409\n",
       "Name: SummonsNumber, dtype: int64"
      ]
     },
     "execution_count": 191,
     "metadata": {},
     "output_type": "execute_result"
    }
   ],
   "source": [
    "clean_man.groupby('DayOfWeek').SummonsNumber.count().sort_values(ascending=False)"
   ]
  },
  {
   "cell_type": "code",
   "execution_count": 46,
   "metadata": {},
   "outputs": [
    {
     "data": {
      "text/plain": [
       "(array([ 457120.,  519033.,  494617.,  520268.,  476255.,  293629.,  101409.]),\n",
       " array([ 1.        ,  1.85714286,  2.71428571,  3.57142857,  4.42857143,\n",
       "         5.28571429,  6.14285714,  7.        ]),\n",
       " <a list of 1 Patch objects>)"
      ]
     },
     "execution_count": 46,
     "metadata": {},
     "output_type": "execute_result"
    },
    {
     "data": {
      "image/png": "[encoded data removed]",
      "text/plain": [
       "<matplotlib.figure.Figure at 0x1a500fa0be0>"
      ]
     },
     "metadata": {},
     "output_type": "display_data"
    }
   ],
   "source": [
    "plt.hist(clean_man.DayOfWeek,bins=7,histtype='step', align='mid')"
   ]
  },
  {
   "cell_type": "markdown",
   "metadata": {},
   "source": [
    "The least two days of a week that parking tickets were issued are Satuarday and Sunday, which makes sense as there are more free-parking spots on the street during weekends and people are less likely to get a parking tickets. It is not what I expected that Thursday are the top day most parking tickets issued and Tuesday is the second. A possible explanation I can think of is that, considering COM (commerical vehicle) is the second large type of plates that got most parking tickets in Manhattan, the portion of not only passanger type of plate increases but also of commerical vehicles. Following codes are the tests of my assumption."
   ]
  },
  {
   "cell_type": "code",
   "execution_count": 12,
   "metadata": {
    "collapsed": true
   },
   "outputs": [],
   "source": [
    "dp = clean_man.groupby(['DayOfWeek','PlateType']).SummonsNumber.count()"
   ]
  },
  {
   "cell_type": "code",
   "execution_count": 13,
   "metadata": {
    "collapsed": true
   },
   "outputs": [],
   "source": [
    "dp = pd.DataFrame(dp)"
   ]
  },
  {
   "cell_type": "code",
   "execution_count": 14,
   "metadata": {
    "collapsed": true
   },
   "outputs": [],
   "source": [
    "mon = dp.loc[dp.index.get_level_values('DayOfWeek') == 1]\n",
    "tue = dp.loc[dp.index.get_level_values('DayOfWeek') == 2]\n",
    "wed = dp.loc[dp.index.get_level_values('DayOfWeek') == 3]\n",
    "thu = dp.loc[dp.index.get_level_values('DayOfWeek') == 4]\n",
    "fri = dp.loc[dp.index.get_level_values('DayOfWeek') == 5]\n",
    "sat = dp.loc[dp.index.get_level_values('DayOfWeek') == 6]\n",
    "sun = dp.loc[dp.index.get_level_values('DayOfWeek') == 7]"
   ]
  },
  {
   "cell_type": "code",
   "execution_count": 15,
   "metadata": {
    "collapsed": true
   },
   "outputs": [],
   "source": [
    "mon.reset_index(inplace=True)\n",
    "tue.reset_index(inplace=True)\n",
    "wed.reset_index(inplace=True)\n",
    "thu.reset_index(inplace=True) \n",
    "fri.reset_index(inplace=True)\n",
    "sat.reset_index(inplace=True)\n",
    "sun.reset_index(inplace=True)"
   ]
  },
  {
   "cell_type": "code",
   "execution_count": 16,
   "metadata": {},
   "outputs": [
    {
     "data": {
      "text/html": [
       "<div>\n",
       "<style>\n",
       "    .dataframe thead tr:only-child th {\n",
       "        text-align: right;\n",
       "    }\n",
       "\n",
       "    .dataframe thead th {\n",
       "        text-align: left;\n",
       "    }\n",
       "\n",
       "    .dataframe tbody tr th {\n",
       "        vertical-align: top;\n",
       "    }\n",
       "</style>\n",
       "<table border=\"1\" class=\"dataframe\">\n",
       "  <thead>\n",
       "    <tr style=\"text-align: right;\">\n",
       "      <th></th>\n",
       "      <th>DayOfWeek</th>\n",
       "      <th>PlateType</th>\n",
       "      <th>SummonsNumber</th>\n",
       "    </tr>\n",
       "  </thead>\n",
       "  <tbody>\n",
       "    <tr>\n",
       "      <th>40</th>\n",
       "      <td>1</td>\n",
       "      <td>PAS</td>\n",
       "      <td>233079</td>\n",
       "    </tr>\n",
       "    <tr>\n",
       "      <th>14</th>\n",
       "      <td>1</td>\n",
       "      <td>COM</td>\n",
       "      <td>191986</td>\n",
       "    </tr>\n",
       "    <tr>\n",
       "      <th>35</th>\n",
       "      <td>1</td>\n",
       "      <td>OMT</td>\n",
       "      <td>10071</td>\n",
       "    </tr>\n",
       "  </tbody>\n",
       "</table>\n",
       "</div>"
      ],
      "text/plain": [
       "    DayOfWeek PlateType  SummonsNumber\n",
       "40          1       PAS         233079\n",
       "14          1       COM         191986\n",
       "35          1       OMT          10071"
      ]
     },
     "execution_count": 16,
     "metadata": {},
     "output_type": "execute_result"
    }
   ],
   "source": [
    "mon = mon.sort_values(by='SummonsNumber', ascending=False)\n",
    "mon.head(3)"
   ]
  },
  {
   "cell_type": "code",
   "execution_count": 17,
   "metadata": {},
   "outputs": [
    {
     "data": {
      "text/html": [
       "<div>\n",
       "<style>\n",
       "    .dataframe thead tr:only-child th {\n",
       "        text-align: right;\n",
       "    }\n",
       "\n",
       "    .dataframe thead th {\n",
       "        text-align: left;\n",
       "    }\n",
       "\n",
       "    .dataframe tbody tr th {\n",
       "        vertical-align: top;\n",
       "    }\n",
       "</style>\n",
       "<table border=\"1\" class=\"dataframe\">\n",
       "  <thead>\n",
       "    <tr style=\"text-align: right;\">\n",
       "      <th></th>\n",
       "      <th>DayOfWeek</th>\n",
       "      <th>PlateType</th>\n",
       "      <th>SummonsNumber</th>\n",
       "    </tr>\n",
       "  </thead>\n",
       "  <tbody>\n",
       "    <tr>\n",
       "      <th>46</th>\n",
       "      <td>2</td>\n",
       "      <td>PAS</td>\n",
       "      <td>252615</td>\n",
       "    </tr>\n",
       "    <tr>\n",
       "      <th>14</th>\n",
       "      <td>2</td>\n",
       "      <td>COM</td>\n",
       "      <td>229453</td>\n",
       "    </tr>\n",
       "    <tr>\n",
       "      <th>42</th>\n",
       "      <td>2</td>\n",
       "      <td>OMT</td>\n",
       "      <td>11341</td>\n",
       "    </tr>\n",
       "  </tbody>\n",
       "</table>\n",
       "</div>"
      ],
      "text/plain": [
       "    DayOfWeek PlateType  SummonsNumber\n",
       "46          2       PAS         252615\n",
       "14          2       COM         229453\n",
       "42          2       OMT          11341"
      ]
     },
     "execution_count": 17,
     "metadata": {},
     "output_type": "execute_result"
    }
   ],
   "source": [
    "tue = tue.sort_values(by='SummonsNumber', ascending=False)\n",
    "tue.head(3)"
   ]
  },
  {
   "cell_type": "code",
   "execution_count": 18,
   "metadata": {},
   "outputs": [
    {
     "data": {
      "text/html": [
       "<div>\n",
       "<style>\n",
       "    .dataframe thead tr:only-child th {\n",
       "        text-align: right;\n",
       "    }\n",
       "\n",
       "    .dataframe thead th {\n",
       "        text-align: left;\n",
       "    }\n",
       "\n",
       "    .dataframe tbody tr th {\n",
       "        vertical-align: top;\n",
       "    }\n",
       "</style>\n",
       "<table border=\"1\" class=\"dataframe\">\n",
       "  <thead>\n",
       "    <tr style=\"text-align: right;\">\n",
       "      <th></th>\n",
       "      <th>DayOfWeek</th>\n",
       "      <th>PlateType</th>\n",
       "      <th>SummonsNumber</th>\n",
       "    </tr>\n",
       "  </thead>\n",
       "  <tbody>\n",
       "    <tr>\n",
       "      <th>40</th>\n",
       "      <td>3</td>\n",
       "      <td>PAS</td>\n",
       "      <td>229881</td>\n",
       "    </tr>\n",
       "    <tr>\n",
       "      <th>14</th>\n",
       "      <td>3</td>\n",
       "      <td>COM</td>\n",
       "      <td>229534</td>\n",
       "    </tr>\n",
       "    <tr>\n",
       "      <th>35</th>\n",
       "      <td>3</td>\n",
       "      <td>OMT</td>\n",
       "      <td>11162</td>\n",
       "    </tr>\n",
       "  </tbody>\n",
       "</table>\n",
       "</div>"
      ],
      "text/plain": [
       "    DayOfWeek PlateType  SummonsNumber\n",
       "40          3       PAS         229881\n",
       "14          3       COM         229534\n",
       "35          3       OMT          11162"
      ]
     },
     "execution_count": 18,
     "metadata": {},
     "output_type": "execute_result"
    }
   ],
   "source": [
    "wed = wed.sort_values(by='SummonsNumber', ascending=False)\n",
    "wed.head(3)"
   ]
  },
  {
   "cell_type": "code",
   "execution_count": 19,
   "metadata": {},
   "outputs": [
    {
     "data": {
      "text/html": [
       "<div>\n",
       "<style>\n",
       "    .dataframe thead tr:only-child th {\n",
       "        text-align: right;\n",
       "    }\n",
       "\n",
       "    .dataframe thead th {\n",
       "        text-align: left;\n",
       "    }\n",
       "\n",
       "    .dataframe tbody tr th {\n",
       "        vertical-align: top;\n",
       "    }\n",
       "</style>\n",
       "<table border=\"1\" class=\"dataframe\">\n",
       "  <thead>\n",
       "    <tr style=\"text-align: right;\">\n",
       "      <th></th>\n",
       "      <th>DayOfWeek</th>\n",
       "      <th>PlateType</th>\n",
       "      <th>SummonsNumber</th>\n",
       "    </tr>\n",
       "  </thead>\n",
       "  <tbody>\n",
       "    <tr>\n",
       "      <th>49</th>\n",
       "      <td>4</td>\n",
       "      <td>PAS</td>\n",
       "      <td>259907</td>\n",
       "    </tr>\n",
       "    <tr>\n",
       "      <th>17</th>\n",
       "      <td>4</td>\n",
       "      <td>COM</td>\n",
       "      <td>224796</td>\n",
       "    </tr>\n",
       "    <tr>\n",
       "      <th>44</th>\n",
       "      <td>4</td>\n",
       "      <td>OMT</td>\n",
       "      <td>11129</td>\n",
       "    </tr>\n",
       "  </tbody>\n",
       "</table>\n",
       "</div>"
      ],
      "text/plain": [
       "    DayOfWeek PlateType  SummonsNumber\n",
       "49          4       PAS         259907\n",
       "17          4       COM         224796\n",
       "44          4       OMT          11129"
      ]
     },
     "execution_count": 19,
     "metadata": {},
     "output_type": "execute_result"
    }
   ],
   "source": [
    "thu = thu.sort_values(by='SummonsNumber', ascending=False)\n",
    "thu.head(3)"
   ]
  },
  {
   "cell_type": "code",
   "execution_count": 20,
   "metadata": {},
   "outputs": [
    {
     "data": {
      "text/html": [
       "<div>\n",
       "<style>\n",
       "    .dataframe thead tr:only-child th {\n",
       "        text-align: right;\n",
       "    }\n",
       "\n",
       "    .dataframe thead th {\n",
       "        text-align: left;\n",
       "    }\n",
       "\n",
       "    .dataframe tbody tr th {\n",
       "        vertical-align: top;\n",
       "    }\n",
       "</style>\n",
       "<table border=\"1\" class=\"dataframe\">\n",
       "  <thead>\n",
       "    <tr style=\"text-align: right;\">\n",
       "      <th></th>\n",
       "      <th>DayOfWeek</th>\n",
       "      <th>PlateType</th>\n",
       "      <th>SummonsNumber</th>\n",
       "    </tr>\n",
       "  </thead>\n",
       "  <tbody>\n",
       "    <tr>\n",
       "      <th>43</th>\n",
       "      <td>5</td>\n",
       "      <td>PAS</td>\n",
       "      <td>244730</td>\n",
       "    </tr>\n",
       "    <tr>\n",
       "      <th>16</th>\n",
       "      <td>5</td>\n",
       "      <td>COM</td>\n",
       "      <td>198225</td>\n",
       "    </tr>\n",
       "    <tr>\n",
       "      <th>38</th>\n",
       "      <td>5</td>\n",
       "      <td>OMT</td>\n",
       "      <td>10159</td>\n",
       "    </tr>\n",
       "  </tbody>\n",
       "</table>\n",
       "</div>"
      ],
      "text/plain": [
       "    DayOfWeek PlateType  SummonsNumber\n",
       "43          5       PAS         244730\n",
       "16          5       COM         198225\n",
       "38          5       OMT          10159"
      ]
     },
     "execution_count": 20,
     "metadata": {},
     "output_type": "execute_result"
    }
   ],
   "source": [
    "fri = fri.sort_values(by='SummonsNumber', ascending=False)\n",
    "fri.head(3)"
   ]
  },
  {
   "cell_type": "code",
   "execution_count": 21,
   "metadata": {},
   "outputs": [
    {
     "data": {
      "text/html": [
       "<div>\n",
       "<style>\n",
       "    .dataframe thead tr:only-child th {\n",
       "        text-align: right;\n",
       "    }\n",
       "\n",
       "    .dataframe thead th {\n",
       "        text-align: left;\n",
       "    }\n",
       "\n",
       "    .dataframe tbody tr th {\n",
       "        vertical-align: top;\n",
       "    }\n",
       "</style>\n",
       "<table border=\"1\" class=\"dataframe\">\n",
       "  <thead>\n",
       "    <tr style=\"text-align: right;\">\n",
       "      <th></th>\n",
       "      <th>DayOfWeek</th>\n",
       "      <th>PlateType</th>\n",
       "      <th>SummonsNumber</th>\n",
       "    </tr>\n",
       "  </thead>\n",
       "  <tbody>\n",
       "    <tr>\n",
       "      <th>37</th>\n",
       "      <td>6</td>\n",
       "      <td>PAS</td>\n",
       "      <td>206541</td>\n",
       "    </tr>\n",
       "    <tr>\n",
       "      <th>12</th>\n",
       "      <td>6</td>\n",
       "      <td>COM</td>\n",
       "      <td>63908</td>\n",
       "    </tr>\n",
       "    <tr>\n",
       "      <th>32</th>\n",
       "      <td>6</td>\n",
       "      <td>OMT</td>\n",
       "      <td>6979</td>\n",
       "    </tr>\n",
       "  </tbody>\n",
       "</table>\n",
       "</div>"
      ],
      "text/plain": [
       "    DayOfWeek PlateType  SummonsNumber\n",
       "37          6       PAS         206541\n",
       "12          6       COM          63908\n",
       "32          6       OMT           6979"
      ]
     },
     "execution_count": 21,
     "metadata": {},
     "output_type": "execute_result"
    }
   ],
   "source": [
    "sat = sat.sort_values(by='SummonsNumber', ascending=False)\n",
    "sat.head(3)"
   ]
  },
  {
   "cell_type": "code",
   "execution_count": 22,
   "metadata": {},
   "outputs": [
    {
     "data": {
      "text/html": [
       "<div>\n",
       "<style>\n",
       "    .dataframe thead tr:only-child th {\n",
       "        text-align: right;\n",
       "    }\n",
       "\n",
       "    .dataframe thead th {\n",
       "        text-align: left;\n",
       "    }\n",
       "\n",
       "    .dataframe tbody tr th {\n",
       "        vertical-align: top;\n",
       "    }\n",
       "</style>\n",
       "<table border=\"1\" class=\"dataframe\">\n",
       "  <thead>\n",
       "    <tr style=\"text-align: right;\">\n",
       "      <th></th>\n",
       "      <th>DayOfWeek</th>\n",
       "      <th>PlateType</th>\n",
       "      <th>SummonsNumber</th>\n",
       "    </tr>\n",
       "  </thead>\n",
       "  <tbody>\n",
       "    <tr>\n",
       "      <th>26</th>\n",
       "      <td>7</td>\n",
       "      <td>PAS</td>\n",
       "      <td>85455</td>\n",
       "    </tr>\n",
       "    <tr>\n",
       "      <th>8</th>\n",
       "      <td>7</td>\n",
       "      <td>COM</td>\n",
       "      <td>8034</td>\n",
       "    </tr>\n",
       "    <tr>\n",
       "      <th>23</th>\n",
       "      <td>7</td>\n",
       "      <td>OMT</td>\n",
       "      <td>3062</td>\n",
       "    </tr>\n",
       "  </tbody>\n",
       "</table>\n",
       "</div>"
      ],
      "text/plain": [
       "    DayOfWeek PlateType  SummonsNumber\n",
       "26          7       PAS          85455\n",
       "8           7       COM           8034\n",
       "23          7       OMT           3062"
      ]
     },
     "execution_count": 22,
     "metadata": {},
     "output_type": "execute_result"
    }
   ],
   "source": [
    "sun = sun.sort_values(by='SummonsNumber', ascending=False)\n",
    "sun.head(3)"
   ]
  },
  {
   "cell_type": "markdown",
   "metadata": {},
   "source": [
    "The top three plate type to which the most of issued parking tickets belong are all PAS (passenger), COM (commercial vehicle), and OMT (taxi) respectively. Let's look at the ratio of each type of plates with total plate types."
   ]
  },
  {
   "cell_type": "code",
   "execution_count": 23,
   "metadata": {},
   "outputs": [
    {
     "data": {
      "text/plain": [
       "0.50988580679033957"
      ]
     },
     "execution_count": 23,
     "metadata": {},
     "output_type": "execute_result"
    }
   ],
   "source": [
    "mon.SummonsNumber.values[0] / mon.SummonsNumber.sum()"
   ]
  },
  {
   "cell_type": "code",
   "execution_count": 24,
   "metadata": {},
   "outputs": [
    {
     "name": "stdout",
     "output_type": "stream",
     "text": [
      "The ratio of passenger type of plate on all Mondays is  50.99%\n",
      "The ratio of commercial vehicle type of plate on all Mondays is  42.00%\n",
      "The ratio of taxi type of plate on all Mondays is  2.20%\n"
     ]
    }
   ],
   "source": [
    "mon_pasr = mon.SummonsNumber.values[0] / mon.SummonsNumber.sum()\n",
    "mon_comr = mon.SummonsNumber.values[1] / mon.SummonsNumber.sum()\n",
    "mon_omtr = mon.SummonsNumber.values[2] / mon.SummonsNumber.sum()\n",
    "print('The ratio of passenger type of plate on all Mondays is ', '{:.2%}'.format(mon_pasr))\n",
    "print('The ratio of commercial vehicle type of plate on all Mondays is ', '{:.2%}'.format(mon_comr))\n",
    "print('The ratio of taxi type of plate on all Mondays is ', '{:.2%}'.format(mon_omtr))\n"
   ]
  },
  {
   "cell_type": "code",
   "execution_count": 25,
   "metadata": {},
   "outputs": [
    {
     "name": "stdout",
     "output_type": "stream",
     "text": [
      "The ratio of passenger type of plate on all Tuesdays is  48.67%\n",
      "The ratio of commercial vehicle type of plate on all Tuesdays is  44.21%\n",
      "The ratio of taxi type of plate on all Tuesdays is  2.19%\n"
     ]
    }
   ],
   "source": [
    "tue_pasr = tue.SummonsNumber.values[0] / tue.SummonsNumber.sum()\n",
    "tue_comr = tue.SummonsNumber.values[1] / tue.SummonsNumber.sum()\n",
    "tue_omtr = tue.SummonsNumber.values[2] / tue.SummonsNumber.sum()\n",
    "print('The ratio of passenger type of plate on all Tuesdays is ', '{:.2%}'.format(tue_pasr))\n",
    "print('The ratio of commercial vehicle type of plate on all Tuesdays is ', '{:.2%}'.format(tue_comr))\n",
    "print('The ratio of taxi type of plate on all Tuesdays is ', '{:.2%}'.format(tue_omtr))"
   ]
  },
  {
   "cell_type": "code",
   "execution_count": 26,
   "metadata": {},
   "outputs": [
    {
     "name": "stdout",
     "output_type": "stream",
     "text": [
      "The ratio of passenger type of plate on all Wednesdays is  46.48%\n",
      "The ratio of commercial vehicle type of plate on all Wednesdays is  46.41%\n",
      "The ratio of taxi type of plate on all Wednesdays is  2.26%\n"
     ]
    }
   ],
   "source": [
    "wed_pasr = wed.SummonsNumber.values[0] / wed.SummonsNumber.sum()\n",
    "wed_comr = wed.SummonsNumber.values[1] / wed.SummonsNumber.sum()\n",
    "wed_omtr = wed.SummonsNumber.values[2] / wed.SummonsNumber.sum()\n",
    "print('The ratio of passenger type of plate on all Wednesdays is ', '{:.2%}'.format(wed_pasr))\n",
    "print('The ratio of commercial vehicle type of plate on all Wednesdays is ', '{:.2%}'.format(wed_comr))\n",
    "print('The ratio of taxi type of plate on all Wednesdays is ', '{:.2%}'.format(wed_omtr))"
   ]
  },
  {
   "cell_type": "code",
   "execution_count": 27,
   "metadata": {},
   "outputs": [
    {
     "name": "stdout",
     "output_type": "stream",
     "text": [
      "The ratio of passenger type of plate on all Thursdays is  49.96%\n",
      "The ratio of commercial vehicle type of plate on all Thursdays is  43.21%\n",
      "The ratio of taxi type of plate on all Thursdays is  2.14%\n"
     ]
    }
   ],
   "source": [
    "thu_pasr = thu.SummonsNumber.values[0] / thu.SummonsNumber.sum()\n",
    "thu_comr = thu.SummonsNumber.values[1] / thu.SummonsNumber.sum()\n",
    "thu_omtr = thu.SummonsNumber.values[2] / thu.SummonsNumber.sum()\n",
    "print('The ratio of passenger type of plate on all Thursdays is ', '{:.2%}'.format(thu_pasr))\n",
    "print('The ratio of commercial vehicle type of plate on all Thursdays is ', '{:.2%}'.format(thu_comr))\n",
    "print('The ratio of taxi type of plate on all Thursdays is ', '{:.2%}'.format(thu_omtr))"
   ]
  },
  {
   "cell_type": "code",
   "execution_count": 28,
   "metadata": {},
   "outputs": [
    {
     "name": "stdout",
     "output_type": "stream",
     "text": [
      "The ratio of passenger type of plate on all Fridays is  51.39%\n",
      "The ratio of commercial vehicle type of plate on all Fridays is  41.62%\n",
      "The ratio of taxi type of plate on all Fridays is  2.13%\n"
     ]
    }
   ],
   "source": [
    "fri_pasr = fri.SummonsNumber.values[0] / fri.SummonsNumber.sum()\n",
    "fri_comr = fri.SummonsNumber.values[1] / fri.SummonsNumber.sum()\n",
    "fri_omtr = fri.SummonsNumber.values[2] / fri.SummonsNumber.sum()\n",
    "print('The ratio of passenger type of plate on all Fridays is ', '{:.2%}'.format(fri_pasr))\n",
    "print('The ratio of commercial vehicle type of plate on all Fridays is ', '{:.2%}'.format(fri_comr))\n",
    "print('The ratio of taxi type of plate on all Fridays is ', '{:.2%}'.format(fri_omtr))"
   ]
  },
  {
   "cell_type": "code",
   "execution_count": 29,
   "metadata": {},
   "outputs": [
    {
     "name": "stdout",
     "output_type": "stream",
     "text": [
      "The ratio of passenger type of plate on all Saturdays is  70.34%\n",
      "The ratio of commercial vehicle type of plate on all Saturdays is  21.76%\n",
      "The ratio of taxi type of plate on all Satursday is  2.38%\n"
     ]
    }
   ],
   "source": [
    "sat_pasr = sat.SummonsNumber.values[0] / sat.SummonsNumber.sum()\n",
    "sat_comr = sat.SummonsNumber.values[1] / sat.SummonsNumber.sum()\n",
    "sat_omtr = sat.SummonsNumber.values[2] / sat.SummonsNumber.sum()\n",
    "print('The ratio of passenger type of plate on all Saturdays is ', '{:.2%}'.format(sat_pasr))\n",
    "print('The ratio of commercial vehicle type of plate on all Saturdays is ', '{:.2%}'.format(sat_comr))\n",
    "print('The ratio of taxi type of plate on all Satursday is ', '{:.2%}'.format(sat_omtr))"
   ]
  },
  {
   "cell_type": "code",
   "execution_count": 30,
   "metadata": {},
   "outputs": [
    {
     "name": "stdout",
     "output_type": "stream",
     "text": [
      "The ratio of passenger type of plate on all Sundays is  84.27%\n",
      "The ratio of commercial vehicle type of plate on all Sundays is  7.92%\n",
      "The ratio of taxi type of plate on all Sundays is  3.02%\n"
     ]
    }
   ],
   "source": [
    "sun_pasr = sun.SummonsNumber.values[0] / sun.SummonsNumber.sum()\n",
    "sun_comr = sun.SummonsNumber.values[1] / sun.SummonsNumber.sum()\n",
    "sun_omtr = sun.SummonsNumber.values[2] / sun.SummonsNumber.sum()\n",
    "print('The ratio of passenger type of plate on all Sundays is ', '{:.2%}'.format(sun_pasr))\n",
    "print('The ratio of commercial vehicle type of plate on all Sundays is ', '{:.2%}'.format(sun_comr))\n",
    "print('The ratio of taxi type of plate on all Sundays is ', '{:.2%}'.format(sun_omtr))"
   ]
  },
  {
   "cell_type": "code",
   "execution_count": 38,
   "metadata": {},
   "outputs": [
    {
     "data": {
      "text/plain": [
       "<matplotlib.legend.Legend at 0x1a500c357b8>"
      ]
     },
     "execution_count": 38,
     "metadata": {},
     "output_type": "execute_result"
    },
    {
     "data": {
      "image/png": "[encoded data removed]",
      "text/plain": [
       "<matplotlib.figure.Figure at 0x1a500c277b8>"
      ]
     },
     "metadata": {},
     "output_type": "display_data"
    }
   ],
   "source": [
    "plt.plot([1,2,3,4,5,6,7],[mon_pasr,tue_pasr,wed_pasr,thu_pasr,fri_pasr,sat_pasr,sun_pasr],color='r', marker='x',label='PAS')\n",
    "plt.plot([1,2,3,4,5,6,7],[mon_comr,tue_comr,wed_comr,thu_comr,fri_comr,sat_comr,sun_comr],color='b', marker='x', label='COM')\n",
    "plt.plot([1,2,3,4,5,6,7],[mon_omtr,tue_omtr,wed_omtr,thu_omtr,fri_omtr,sat_omtr,sun_omtr],color='m', marker='x', label='OMT')\n",
    "plt.legend(loc=2)"
   ]
  },
  {
   "cell_type": "markdown",
   "metadata": {},
   "source": [
    "From above figure and the ratios, it is clear that when it comes to the weekends, the ratio of passenger type of cars and the total type of cars got parking tickets increases extremely and the ratio of commecial vehicles decreases drastically, which makes sense since commercial vehicles are most likely not at work. However, the result does not valid my earlier assumption, which is the reason why Tuesday and Thursday are the top two days that the most parking tickets issued in Manhanttan is that the ratio of commercial vehicles got tickets on Tuesday and Thursday are higher than the ratio of any other day. Neverwithless, the ratio of cmmercial vehicles is the highest on Wednesday. Thus, I cannot find any reasonable explanations of this finding. "
   ]
  },
  {
   "cell_type": "markdown",
   "metadata": {},
   "source": [
    "## About the top hour of a day"
   ]
  },
  {
   "cell_type": "code",
   "execution_count": 130,
   "metadata": {},
   "outputs": [
    {
     "name": "stderr",
     "output_type": "stream",
     "text": [
      "C:\\Users\\MiaZo_000\\Anaconda3\\lib\\site-packages\\pandas\\core\\indexing.py:337: SettingWithCopyWarning: \n",
      "A value is trying to be set on a copy of a slice from a DataFrame.\n",
      "Try using .loc[row_indexer,col_indexer] = value instead\n",
      "\n",
      "See the caveats in the documentation: http://pandas.pydata.org/pandas-docs/stable/indexing.html#indexing-view-versus-copy\n",
      "  self.obj[key] = _infer_fill_value(value)\n",
      "C:\\Users\\MiaZo_000\\Anaconda3\\lib\\site-packages\\pandas\\core\\indexing.py:517: SettingWithCopyWarning: \n",
      "A value is trying to be set on a copy of a slice from a DataFrame.\n",
      "Try using .loc[row_indexer,col_indexer] = value instead\n",
      "\n",
      "See the caveats in the documentation: http://pandas.pydata.org/pandas-docs/stable/indexing.html#indexing-view-versus-copy\n",
      "  self.obj[item] = s\n"
     ]
    }
   ],
   "source": [
    "clean_man.loc[:,'Hour'] = clean_man.datetime.dt.hour"
   ]
  },
  {
   "cell_type": "code",
   "execution_count": 135,
   "metadata": {},
   "outputs": [
    {
     "data": {
      "text/plain": [
       "(array([  21646.,   16744.,   11329.,    7561.,    3772.,   28863.,\n",
       "          57266.,  172367.,  259405.,  326128.,  285496.,  280134.,\n",
       "         221365.,  313870.,  255462.,  170016.,  146180.,  112855.,\n",
       "          60720.,   11085.,   35723.,   32288.,   17931.,   14125.]),\n",
       " array([  0.        ,   0.95833333,   1.91666667,   2.875     ,\n",
       "          3.83333333,   4.79166667,   5.75      ,   6.70833333,\n",
       "          7.66666667,   8.625     ,   9.58333333,  10.54166667,\n",
       "         11.5       ,  12.45833333,  13.41666667,  14.375     ,\n",
       "         15.33333333,  16.29166667,  17.25      ,  18.20833333,\n",
       "         19.16666667,  20.125     ,  21.08333333,  22.04166667,  23.        ]),\n",
       " <a list of 24 Patch objects>)"
      ]
     },
     "execution_count": 135,
     "metadata": {},
     "output_type": "execute_result"
    },
    {
     "data": {
      "image/png": "[encoded data removed]",
      "text/plain": [
       "<matplotlib.figure.Figure at 0x1a5002e85f8>"
      ]
     },
     "metadata": {},
     "output_type": "display_data"
    }
   ],
   "source": [
    "plt.hist(clean_man.Hour, bins=24, align='mid')"
   ]
  },
  {
   "cell_type": "code",
   "execution_count": 143,
   "metadata": {},
   "outputs": [
    {
     "data": {
      "text/html": [
       "<div>\n",
       "<style>\n",
       "    .dataframe thead tr:only-child th {\n",
       "        text-align: right;\n",
       "    }\n",
       "\n",
       "    .dataframe thead th {\n",
       "        text-align: left;\n",
       "    }\n",
       "\n",
       "    .dataframe tbody tr th {\n",
       "        vertical-align: top;\n",
       "    }\n",
       "</style>\n",
       "<table border=\"1\" class=\"dataframe\">\n",
       "  <thead>\n",
       "    <tr style=\"text-align: right;\">\n",
       "      <th></th>\n",
       "      <th>Hour</th>\n",
       "      <th>Count</th>\n",
       "    </tr>\n",
       "  </thead>\n",
       "  <tbody>\n",
       "    <tr>\n",
       "      <th>0</th>\n",
       "      <td>9</td>\n",
       "      <td>326128</td>\n",
       "    </tr>\n",
       "    <tr>\n",
       "      <th>1</th>\n",
       "      <td>13</td>\n",
       "      <td>313870</td>\n",
       "    </tr>\n",
       "    <tr>\n",
       "      <th>2</th>\n",
       "      <td>10</td>\n",
       "      <td>285496</td>\n",
       "    </tr>\n",
       "    <tr>\n",
       "      <th>3</th>\n",
       "      <td>11</td>\n",
       "      <td>280134</td>\n",
       "    </tr>\n",
       "    <tr>\n",
       "      <th>4</th>\n",
       "      <td>8</td>\n",
       "      <td>259405</td>\n",
       "    </tr>\n",
       "  </tbody>\n",
       "</table>\n",
       "</div>"
      ],
      "text/plain": [
       "   Hour   Count\n",
       "0     9  326128\n",
       "1    13  313870\n",
       "2    10  285496\n",
       "3    11  280134\n",
       "4     8  259405"
      ]
     },
     "execution_count": 143,
     "metadata": {},
     "output_type": "execute_result"
    }
   ],
   "source": [
    "top5hours = pd.DataFrame(clean_man.groupby('Hour').SummonsNumber.count().sort_values(ascending=False).head())\n",
    "top5hours.reset_index(inplace=True)\n",
    "top5hours.columns = ['Hour','Count']\n",
    "top5hours"
   ]
  },
  {
   "cell_type": "markdown",
   "metadata": {},
   "source": [
    "## Try to find out the association between the violation code and the time of the day..."
   ]
  },
  {
   "cell_type": "code",
   "execution_count": null,
   "metadata": {
    "collapsed": true
   },
   "outputs": [],
   "source": []
  }
 ],
 "metadata": {
  "kernelspec": {
   "display_name": "Python 3",
   "language": "python",
   "name": "python3"
  },
  "language_info": {
   "codemirror_mode": {
    "name": "ipython",
    "version": 3
   },
   "file_extension": ".py",
   "mimetype": "text/x-python",
   "name": "python",
   "nbconvert_exporter": "python",
   "pygments_lexer": "ipython3",
   "version": "3.6.3"
  }
 },
 "nbformat": 4,
 "nbformat_minor": 2
}
